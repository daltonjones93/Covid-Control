{
 "cells": [
  {
   "cell_type": "code",
   "execution_count": 1,
   "metadata": {},
   "outputs": [],
   "source": [
    "import numpy as np\n",
    "import os\n",
    "import matplotlib.pyplot as plt\n",
    "\n"
   ]
  },
  {
   "cell_type": "code",
   "execution_count": 7,
   "metadata": {},
   "outputs": [],
   "source": [
    "#let's make another branching model\n",
    "class branching_model:\n",
    "    def __init__(self,\n",
    "                 rho,\n",
    "                 d,\n",
    "                 v,\n",
    "                 c,\n",
    "                 dist):\n",
    "        self.rho = rho\n",
    "        self.d = d\n",
    "        self.cure_rate= float(1)/d\n",
    "        self.v = v\n",
    "        self.c =c \n",
    "        self.dist = dist\n",
    "        self.mu = np.arange(len(dist)).dot(np.array(dist))\n",
    "        \n",
    "        print(\"R0 equal to \"+str(rho*self.mu*d))\n",
    "        \n",
    "        \n",
    "    def simulate(self):\n",
    "        I = 10\n",
    "        upper_bound = 10000\n",
    "        Is =[I]\n",
    "        R0_est = []\n",
    "        \n",
    "        diff_est = 0\n",
    "        \n",
    "        \n",
    "        \n",
    "        while True:\n",
    "            new_infecs = 0\n",
    "            for i in range(I):\n",
    "                num_edges = np.random.choice(len(self.dist),p=self.dist)\n",
    "                for j in range(num_edges):\n",
    "                    if np.random.rand() < self.rho:\n",
    "                        new_infecs+=1\n",
    "                \n",
    "                if np.random.rand() < self.v:\n",
    "                    new_infecs -=1\n",
    "                \n",
    "                    num_edges = np.random.choice(len(self.dist),p=self.dist)\n",
    "                    \n",
    "                    for j in range(num_edges):\n",
    "                        if np.random.rand() < self.c*self.rho:\n",
    "                            new_infecs -=1\n",
    "                    \n",
    "                else:\n",
    "                    if np.random.rand() < self.cure_rate:\n",
    "                        new_infecs -=1\n",
    "                \n",
    "            \n",
    "            new_I = max([0,I + new_infecs])\n",
    "            I = new_I\n",
    "            Is.append(I)\n",
    "            growth_rate = float(Is[-1]-Is[-2])/float(Is[-2])\n",
    "            \n",
    "            \n",
    "            diff_est*= (len(Is)-2)\n",
    "            diff_est += growth_rate\n",
    "            diff_est /=float(len(Is)-1)\n",
    "            \n",
    "            R0_est_val = (self.d/(1-self.c*self.v))*(diff_est+self.v+((1-self.v)/self.d))\n",
    "            R0_est.append(R0_est_val)\n",
    "            if I >upper_bound:\n",
    "                break\n",
    "            if I <= 0:\n",
    "                break\n",
    "            \n",
    "        plt.figure()\n",
    "        plt.plot(Is)\n",
    "        plt.title('infections')\n",
    "        plt.show()\n",
    "        \n",
    "        plt.figure()\n",
    "        plt.plot(R0_est)\n",
    "        plt.plot(np.arange(len(R0_est)), (self.d*self.rho*self.mu)*np.ones(len(R0_est)))\n",
    "        plt.title('R0 Estimate')\n",
    "        plt.show()\n",
    "        \n",
    "            \n",
    "            "
   ]
  },
  {
   "cell_type": "code",
   "execution_count": 9,
   "metadata": {},
   "outputs": [
    {
     "name": "stdout",
     "output_type": "stream",
     "text": [
      "R0 equal to 5.1639908265145\n"
     ]
    },
    {
     "data": {
      "image/png": "[encoded data removed]",
      "text/plain": [
       "<Figure size 432x288 with 1 Axes>"
      ]
     },
     "metadata": {
      "needs_background": "light"
     },
     "output_type": "display_data"
    },
    {
     "data": {
      "image/png": "[encoded data removed]",
      "text/plain": [
       "<Figure size 432x288 with 1 Axes>"
      ]
     },
     "metadata": {
      "needs_background": "light"
     },
     "output_type": "display_data"
    }
   ],
   "source": [
    "rho =.1\n",
    "d = 14\n",
    "v = .08\n",
    "c = .2\n",
    "dist = np.exp(-.1*np.arange(10))\n",
    "dist/=np.sum(dist)\n",
    "model = branching_model(rho,d,v,c,dist)\n",
    "\n",
    "model.simulate()"
   ]
  },
  {
   "cell_type": "code",
   "execution_count": null,
   "metadata": {},
   "outputs": [],
   "source": []
  }
 ],
 "metadata": {
  "kernelspec": {
   "display_name": "Python 3",
   "language": "python",
   "name": "python3"
  },
  "language_info": {
   "codemirror_mode": {
    "name": "ipython",
    "version": 3
   },
   "file_extension": ".py",
   "mimetype": "text/x-python",
   "name": "python",
   "nbconvert_exporter": "python",
   "pygments_lexer": "ipython3",
   "version": "3.8.3"
  }
 },
 "nbformat": 4,
 "nbformat_minor": 4
}
