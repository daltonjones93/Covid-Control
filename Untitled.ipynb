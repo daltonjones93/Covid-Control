{
 "cells": [
  {
   "cell_type": "code",
   "execution_count": 1,
   "metadata": {},
   "outputs": [],
   "source": [
    "import numpy as np\n",
    "import pandas as pd\n",
    "import matplotlib.pyplot as plt\n",
    "from sklearn.linear_model import LinearRegression as LR\n"
   ]
  },
  {
   "cell_type": "code",
   "execution_count": 4,
   "metadata": {},
   "outputs": [],
   "source": [
    "dfrich = pd.read_csv('RichCountiesDataComplete.csv')\n",
    "dfpoor = pd.read_csv('PoorCountiesDataComplete.csv')"
   ]
  },
  {
   "cell_type": "code",
   "execution_count": 3,
   "metadata": {},
   "outputs": [
    {
     "data": {
      "text/html": [
       "<div>\n",
       "<style scoped>\n",
       "    .dataframe tbody tr th:only-of-type {\n",
       "        vertical-align: middle;\n",
       "    }\n",
       "\n",
       "    .dataframe tbody tr th {\n",
       "        vertical-align: top;\n",
       "    }\n",
       "\n",
       "    .dataframe thead th {\n",
       "        text-align: right;\n",
       "    }\n",
       "</style>\n",
       "<table border=\"1\" class=\"dataframe\">\n",
       "  <thead>\n",
       "    <tr style=\"text-align: right;\">\n",
       "      <th></th>\n",
       "      <th>State</th>\n",
       "      <th>County</th>\n",
       "      <th>Unemployment Increase</th>\n",
       "      <th>Labor Force</th>\n",
       "      <th>Population</th>\n",
       "      <th>Mortality Rate</th>\n",
       "      <th>Mobility Reduction</th>\n",
       "      <th>Covid Deaths</th>\n",
       "      <th>Covid Deaths Per 100,000</th>\n",
       "      <th>Deaths From Unemployment Per 100,000</th>\n",
       "      <th>Covid Deaths After Lockdown</th>\n",
       "      <th>Covid Deaths After Lockdown Per 100,000</th>\n",
       "    </tr>\n",
       "  </thead>\n",
       "  <tbody>\n",
       "    <tr>\n",
       "      <th>0</th>\n",
       "      <td>California</td>\n",
       "      <td>Marin</td>\n",
       "      <td>8.9</td>\n",
       "      <td>133376</td>\n",
       "      <td>258826</td>\n",
       "      <td>522.85</td>\n",
       "      <td>-70.0</td>\n",
       "      <td>14</td>\n",
       "      <td>5.409039</td>\n",
       "      <td>17.504905</td>\n",
       "      <td>28</td>\n",
       "      <td>10.818079</td>\n",
       "    </tr>\n",
       "    <tr>\n",
       "      <th>1</th>\n",
       "      <td>California</td>\n",
       "      <td>San Francisco</td>\n",
       "      <td>9.6</td>\n",
       "      <td>564602</td>\n",
       "      <td>881549</td>\n",
       "      <td>577.55</td>\n",
       "      <td>-79.0</td>\n",
       "      <td>43</td>\n",
       "      <td>4.877778</td>\n",
       "      <td>25.922664</td>\n",
       "      <td>16</td>\n",
       "      <td>1.814987</td>\n",
       "    </tr>\n",
       "    <tr>\n",
       "      <th>2</th>\n",
       "      <td>California</td>\n",
       "      <td>San Mateo</td>\n",
       "      <td>9.3</td>\n",
       "      <td>439857</td>\n",
       "      <td>766573</td>\n",
       "      <td>552.75</td>\n",
       "      <td>-70.0</td>\n",
       "      <td>84</td>\n",
       "      <td>10.957861</td>\n",
       "      <td>21.532405</td>\n",
       "      <td>39</td>\n",
       "      <td>5.087578</td>\n",
       "    </tr>\n",
       "    <tr>\n",
       "      <th>3</th>\n",
       "      <td>California</td>\n",
       "      <td>Santa Clara</td>\n",
       "      <td>9.1</td>\n",
       "      <td>1023880</td>\n",
       "      <td>1927852</td>\n",
       "      <td>554.15</td>\n",
       "      <td>-72.0</td>\n",
       "      <td>141</td>\n",
       "      <td>7.313839</td>\n",
       "      <td>19.550909</td>\n",
       "      <td>40</td>\n",
       "      <td>2.074848</td>\n",
       "    </tr>\n",
       "    <tr>\n",
       "      <th>4</th>\n",
       "      <td>Colorado</td>\n",
       "      <td>Douglas</td>\n",
       "      <td>7.7</td>\n",
       "      <td>196556</td>\n",
       "      <td>351154</td>\n",
       "      <td>558.15</td>\n",
       "      <td>-79.0</td>\n",
       "      <td>45</td>\n",
       "      <td>12.814890</td>\n",
       "      <td>17.561160</td>\n",
       "      <td>12</td>\n",
       "      <td>3.417304</td>\n",
       "    </tr>\n",
       "  </tbody>\n",
       "</table>\n",
       "</div>"
      ],
      "text/plain": [
       "        State         County  Unemployment Increase  Labor Force  Population  \\\n",
       "0  California          Marin                    8.9       133376      258826   \n",
       "1  California  San Francisco                    9.6       564602      881549   \n",
       "2  California      San Mateo                    9.3       439857      766573   \n",
       "3  California    Santa Clara                    9.1      1023880     1927852   \n",
       "4    Colorado        Douglas                    7.7       196556      351154   \n",
       "\n",
       "   Mortality Rate  Mobility Reduction  Covid Deaths  Covid Deaths Per 100,000  \\\n",
       "0          522.85               -70.0            14                  5.409039   \n",
       "1          577.55               -79.0            43                  4.877778   \n",
       "2          552.75               -70.0            84                 10.957861   \n",
       "3          554.15               -72.0           141                  7.313839   \n",
       "4          558.15               -79.0            45                 12.814890   \n",
       "\n",
       "   Deaths From Unemployment Per 100,000  Covid Deaths After Lockdown  \\\n",
       "0                             17.504905                           28   \n",
       "1                             25.922664                           16   \n",
       "2                             21.532405                           39   \n",
       "3                             19.550909                           40   \n",
       "4                             17.561160                           12   \n",
       "\n",
       "   Covid Deaths After Lockdown Per 100,000  \n",
       "0                                10.818079  \n",
       "1                                 1.814987  \n",
       "2                                 5.087578  \n",
       "3                                 2.074848  \n",
       "4                                 3.417304  "
      ]
     },
     "execution_count": 3,
     "metadata": {},
     "output_type": "execute_result"
    }
   ],
   "source": []
  },
  {
   "cell_type": "code",
   "execution_count": 7,
   "metadata": {},
   "outputs": [
    {
     "data": {
      "image/png": "[encoded data removed]",
      "text/plain": [
       "<Figure size 432x288 with 1 Axes>"
      ]
     },
     "metadata": {
      "needs_background": "light"
     },
     "output_type": "display_data"
    },
    {
     "ename": "NameError",
     "evalue": "name 'LR' is not defined",
     "output_type": "error",
     "traceback": [
      "\u001b[0;31m---------------------------------------------------------------------------\u001b[0m",
      "\u001b[0;31mNameError\u001b[0m                                 Traceback (most recent call last)",
      "\u001b[0;32m<ipython-input-7-8121d018a6cb>\u001b[0m in \u001b[0;36m<module>\u001b[0;34m\u001b[0m\n\u001b[1;32m     14\u001b[0m \u001b[0mplt\u001b[0m\u001b[0;34m.\u001b[0m\u001b[0mshow\u001b[0m\u001b[0;34m(\u001b[0m\u001b[0;34m)\u001b[0m\u001b[0;34m\u001b[0m\u001b[0;34m\u001b[0m\u001b[0m\n\u001b[1;32m     15\u001b[0m \u001b[0;34m\u001b[0m\u001b[0m\n\u001b[0;32m---> 16\u001b[0;31m \u001b[0mlrpoorCovid\u001b[0m \u001b[0;34m=\u001b[0m \u001b[0mLR\u001b[0m\u001b[0;34m(\u001b[0m\u001b[0;34m)\u001b[0m\u001b[0;34m\u001b[0m\u001b[0;34m\u001b[0m\u001b[0m\n\u001b[0m\u001b[1;32m     17\u001b[0m \u001b[0mlrrichCovid\u001b[0m \u001b[0;34m=\u001b[0m \u001b[0mLR\u001b[0m\u001b[0;34m(\u001b[0m\u001b[0;34m)\u001b[0m\u001b[0;34m\u001b[0m\u001b[0;34m\u001b[0m\u001b[0m\n\u001b[1;32m     18\u001b[0m \u001b[0mlrpoorUnemployment\u001b[0m \u001b[0;34m=\u001b[0m \u001b[0mLR\u001b[0m\u001b[0;34m(\u001b[0m\u001b[0;34m)\u001b[0m\u001b[0;34m\u001b[0m\u001b[0;34m\u001b[0m\u001b[0m\n",
      "\u001b[0;31mNameError\u001b[0m: name 'LR' is not defined"
     ]
    }
   ],
   "source": [
    "poorMobility = dfpoor['Mobility Reduction'].values\n",
    "richMobility = dfrich['Mobility Reduction'].values\n",
    "\n",
    "poorCovid = dfpoor['Covid Deaths Per 100,000'].values\n",
    "richCovid = dfrich['Covid Deaths Per 100,000'].values\n",
    "\n",
    "poorUnemployment = dfpoor['Deaths From Unemployment Per 100,000'].values\n",
    "richUnemployment = dfrich['Deaths From Unemployment Per 100,000'].values\n",
    "\n",
    "plt.figure()\n",
    "plt.scatter(-richMobility, richCovid,label = 'COVID')\n",
    "plt.scatter(-richMobility,richUnemployment,label = 'Unemployment')\n",
    "plt.legend()\n",
    "plt.show()\n",
    "\n",
    "lrpoorCovid = LR()\n",
    "lrrichCovid = LR()\n",
    "lrpoorUnemployment = LR()\n",
    "lrrichUnemployment = LR()"
   ]
  },
  {
   "cell_type": "code",
   "execution_count": null,
   "metadata": {},
   "outputs": [],
   "source": []
  }
 ],
 "metadata": {
  "kernelspec": {
   "display_name": "Python 3",
   "language": "python",
   "name": "python3"
  },
  "language_info": {
   "codemirror_mode": {
    "name": "ipython",
    "version": 3
   },
   "file_extension": ".py",
   "mimetype": "text/x-python",
   "name": "python",
   "nbconvert_exporter": "python",
   "pygments_lexer": "ipython3",
   "version": "3.8.3"
  }
 },
 "nbformat": 4,
 "nbformat_minor": 4
}
